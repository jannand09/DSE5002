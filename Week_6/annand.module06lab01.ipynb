{
 "cells": [
  {
   "cell_type": "markdown",
   "id": "868f20a6",
   "metadata": {},
   "source": [
    "# Assignment 6\n",
    "### Joseph Annand\n",
    "### 8/13/2023"
   ]
  },
  {
   "cell_type": "markdown",
   "id": "6b3cc38d",
   "metadata": {},
   "source": [
    "## Question 1\n",
    "1) import the random library. \n",
    "\n",
    "2) Use `random.seed(10)` to initialize a pseudorandom number generator. \n",
    "\n",
    "3) Create a list of 50 random integers from 0 to 15. Call this list `int_list`.\n",
    "\n",
    "4) Print the 10th and 30th elements of the list. \n",
    "\n",
    "You will need to use list comprehension to do this. The syntax for list comprehension is: <new_list> = `[<expression> for <item> in <iterable>]`. For this question your expression will be a randint generator from the random library and your iterable will be `range()`. Researh the documentation on how to use both functions. "
   ]
  },
  {
   "cell_type": "code",
   "execution_count": 4,
   "id": "7abe6a13",
   "metadata": {},
   "outputs": [
    {
     "name": "stdout",
     "output_type": "stream",
     "text": [
      "1\n",
      "7\n"
     ]
    }
   ],
   "source": [
    "# your code here\n",
    "import random\n",
    "random.seed(10)\n",
    "\n",
    "int_list = [random.randint(0,15) for x in range(50)]\n",
    "print(int_list[9])\n",
    "print(int_list[29])\n"
   ]
  },
  {
   "cell_type": "markdown",
   "id": "48d4d289",
   "metadata": {},
   "source": [
    "## Question 2\n",
    "1) import the string library.\n",
    "\n",
    "2) Create the string `az_upper` using `string.ascii_uppercase`. This is a single string of uppercase letters\n",
    "\n",
    "3) Create a list of each individual letter from the string. To do this you will need to iterate over the string and append each letter to the an empty list. Call this list `az_list`. \n",
    "\n",
    "4) Print the list.\n",
    "\n",
    "You will need to use a for-loop for this. The syntax for this for-loop should be: \n",
    "\n",
    "`for i in string>:\n",
    "   <list operation>\n",
    "`"
   ]
  },
  {
   "cell_type": "code",
   "execution_count": 5,
   "id": "e259b56f",
   "metadata": {},
   "outputs": [
    {
     "name": "stdout",
     "output_type": "stream",
     "text": [
      "['A', 'B', 'C', 'D', 'E', 'F', 'G', 'H', 'I', 'J', 'K', 'L', 'M', 'N', 'O', 'P', 'Q', 'R', 'S', 'T', 'U', 'V', 'W', 'X', 'Y', 'Z']\n"
     ]
    }
   ],
   "source": [
    "# your code here\n",
    "import string\n",
    "\n",
    "az_upper = string.ascii_uppercase\n",
    "az_list = []\n",
    "\n",
    "for i in az_upper:\n",
    "    az_list.append(i)\n",
    "print(az_list)"
   ]
  },
  {
   "cell_type": "markdown",
   "id": "5b775542",
   "metadata": {},
   "source": [
    "## Question 3\n",
    "1) Create a set from 1 to 5. Call this `set_1`.\n",
    "\n",
    "2) Create a set from int_list. Call this `set_2`.\n",
    "\n",
    "3) Create a set by finding the `symmetric_difference()` of `set_1` and `set_2`. Call this `set_3`.\n",
    "\n",
    "4) What is the length of all three sets?\n",
    "\n"
   ]
  },
  {
   "cell_type": "code",
   "execution_count": 6,
   "id": "4300df51",
   "metadata": {},
   "outputs": [
    {
     "name": "stdout",
     "output_type": "stream",
     "text": [
      "5\n",
      "15\n",
      "12\n"
     ]
    }
   ],
   "source": [
    "# your code here\n",
    "set_1 = {1,2,3,4,5}\n",
    "set_2 = set(int_list)\n",
    "\n",
    "set_3 = set_1.symmetric_difference(set_2)\n",
    "\n",
    "print(len(set_1))\n",
    "print(len(set_2))\n",
    "print(len(set_3))"
   ]
  },
  {
   "cell_type": "markdown",
   "id": "7cd5e698",
   "metadata": {},
   "source": [
    "## Question 4\n",
    "1) Import default dict and set the default value to 'Not Present'. Call this dict_1.\n",
    "\n",
    "2) Add `int_list`, `set_2`, and `set_3` to `dict_1` using the object names as the key names. \n",
    "\n",
    "3) Create a new dictionary, `dict_2`, using curly bracket notation with `set_1` and `az_list` as the keys and values. \n",
    "\n",
    "4) Invoke the default value of `dict_1` by trying to access the key `az_list`. Create a new set named `set_4` from the value of `dict_1['az_list']`. What is the lenght of the difference between `dict_2['az_list']` and `set_4'?\n",
    "\n",
    "5) Update `dict_2` with `dict_1`. Print the value of the key `az_list` from `dict_2`. What happened?\n",
    "\n",
    "\n",
    "\n",
    "\n"
   ]
  },
  {
   "cell_type": "code",
   "execution_count": 11,
   "id": "6c85d4be",
   "metadata": {},
   "outputs": [
    {
     "name": "stdout",
     "output_type": "stream",
     "text": [
      "Not Present\n",
      "25\n",
      "Not Present\n"
     ]
    }
   ],
   "source": [
    "# your code here\n",
    "# Part 1\n",
    "from collections import defaultdict\n",
    "\n",
    "def def_value():\n",
    "    return \"Not Present\"\n",
    "\n",
    "dict_1 = defaultdict(def_value)\n",
    "\n",
    "# Part 2\n",
    "dict_1.update({'int_list': int_list, 'set_2': set_2, 'set_3': set_3})\n",
    "\n",
    "# Part 3\n",
    "dict_2 = {'set_1': set_1, 'az_list': az_list}\n",
    "\n",
    "# Part 4\n",
    "print(dict_1['az_list'])\n",
    "set_4 = {dict_1['az_list']}\n",
    "print(len(dict_2['az_list']) - len(set_4))\n",
    "\n",
    "# Part 5\n",
    "dict_2.update(dict_1)\n",
    "print(dict_2['az_list'])"
   ]
  },
  {
   "cell_type": "code",
   "execution_count": null,
   "id": "8b00bd4f",
   "metadata": {},
   "outputs": [],
   "source": []
  }
 ],
 "metadata": {
  "kernelspec": {
   "display_name": "Python 3 (ipykernel)",
   "language": "python",
   "name": "python3"
  },
  "language_info": {
   "codemirror_mode": {
    "name": "ipython",
    "version": 3
   },
   "file_extension": ".py",
   "mimetype": "text/x-python",
   "name": "python",
   "nbconvert_exporter": "python",
   "pygments_lexer": "ipython3",
   "version": "3.10.9"
  }
 },
 "nbformat": 4,
 "nbformat_minor": 5
}
