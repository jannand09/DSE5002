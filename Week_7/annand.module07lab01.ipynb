{
 "cells": [
  {
   "cell_type": "markdown",
   "id": "5b5258fe",
   "metadata": {},
   "source": [
    "# Assignment 7\n",
    "### Joseph Annand\n",
    "### 8/20/2023"
   ]
  },
  {
   "cell_type": "markdown",
   "id": "c0ebfbde",
   "metadata": {},
   "source": [
    "## Question 1\n",
    "A palindrome is a word, phrase, or sequence that is the same spelled forward as it is backwards.\n",
    "Write a function using a for-loop to determine if a string is a palindrome. Your function should only have one argument. "
   ]
  },
  {
   "cell_type": "code",
   "execution_count": 5,
   "id": "75b35247",
   "metadata": {},
   "outputs": [
    {
     "name": "stdout",
     "output_type": "stream",
     "text": [
      "True\n",
      "False\n"
     ]
    }
   ],
   "source": [
    "# your code here\n",
    "def for_palindrome(str):\n",
    "    reverse_list = []\n",
    "    for i in range(len(str)-1, -1, -1):\n",
    "        reverse_list.append(str[i])\n",
    "    \n",
    "    reverse_str = \"\".join(reverse_list)\n",
    "\n",
    "    return str == reverse_str\n",
    "\n",
    "print(for_palindrome(\"racecar\"))\n",
    "print(for_palindrome(\"chemistry\"))"
   ]
  },
  {
   "cell_type": "markdown",
   "id": "c6916bad",
   "metadata": {},
   "source": [
    "## Question 2\n",
    "Write a function using a while-loop to determine if a string is a palindrome. Your function should only have one argument. "
   ]
  },
  {
   "cell_type": "code",
   "execution_count": 7,
   "id": "c0f1525d",
   "metadata": {},
   "outputs": [
    {
     "name": "stdout",
     "output_type": "stream",
     "text": [
      "True\n",
      "False\n"
     ]
    }
   ],
   "source": [
    "# your code here\n",
    "def while_palindrome(str):\n",
    "    str_list = list(str) # or [x for x in str] \n",
    "\n",
    "    i = 0\n",
    "    j = len(str_list)-1\n",
    "    while i < j:\n",
    "        temp = str_list[i]\n",
    "        str_list[i] = str_list[j]\n",
    "        str_list[j] = temp\n",
    "        i = i + 1\n",
    "        j = j - 1\n",
    "    \n",
    "    reverse_str = \"\".join(str_list)\n",
    "\n",
    "    return str == reverse_str\n",
    "\n",
    "print(while_palindrome(\"racecar\"))\n",
    "print(while_palindrome(\"chemistry\"))"
   ]
  },
  {
   "cell_type": "markdown",
   "id": "d85c8321",
   "metadata": {},
   "source": [
    "## Question 3\n",
    "Two Sum - Write a function named two_sum()\n",
    "Given a vector of integers nums and an integer target, return indices of the two numbers such that they add\n",
    "up to target. You may assume that each input would have exactly one solution, and you may not use the same element\n",
    "twice. You can return the answer in any order.Use defaultdict and hash maps/tables to complete this problem. \n",
    "\n",
    "Example 1:\n",
    "Input: `nums = [2,7,11,15]`, target = 9 Output: `[0,1]` Explanation: Because `nums[0] + nums[1] == 9`, we\n",
    "return `[0, 1]`. \n",
    "\n",
    "Example 2:\n",
    "Input: `nums = [3,2,4]`, `target = 6 Output: [1,2]` \n",
    "\n",
    "Example 3:\n",
    "Input: `nums = [3,3]`, `target = 6 Output: [0,1]`\n",
    "\n",
    "Constraints:\n",
    "`2 <= nums.length <= 104 –109 <= nums[i] <= 109 –109 <= target <= 109` Only one valid answer exists."
   ]
  },
  {
   "cell_type": "code",
   "execution_count": 3,
   "id": "46a63aa3",
   "metadata": {},
   "outputs": [
    {
     "name": "stdout",
     "output_type": "stream",
     "text": [
      "[0, 1]\n",
      "[1, 2]\n",
      "[0, 1]\n"
     ]
    }
   ],
   "source": [
    "# your code here\n",
    "from collections import defaultdict\n",
    "\n",
    "def two_sum(nums, target):\n",
    "    hash_map = defaultdict(int)\n",
    "    # Create a key with an empty dictionary as its value to handle repeat values in nums\n",
    "    # Use value 119 because it is an impossible key based on constraints\n",
    "    hash_map[119] = {}\n",
    "    for i in range(len(nums)):\n",
    "        # Put repeat values in a nested dictionary to prevent it from overwriting original entry\n",
    "        if (target - nums[i]) in hash_map.keys():\n",
    "            hash_map[119].update({(target - nums[i]): i})\n",
    "        else:\n",
    "            # Create key:value pair for non-repeat value\n",
    "            hash_map[target - nums[i]] = i\n",
    "    \n",
    "    for key, value in hash_map.items():\n",
    "        comp = (target - key)\n",
    "        # Search for the complement in the dictionary\n",
    "        if comp in hash_map.keys():\n",
    "            # Do not allow the same index to be returned twice\n",
    "            if comp != key:\n",
    "                return([value, hash_map[comp]])\n",
    "            # Search for complement in nested dictionary from repeat values\n",
    "            else:\n",
    "                # Search in dictionary with repeat values\n",
    "                if comp in hash_map[119].keys():\n",
    "                    return([value, hash_map[119][comp]])\n",
    "\n",
    "            \n",
    "print(two_sum([2,7,11,15], 9))\n",
    "print(two_sum([3,2,4], 6))\n",
    "print(two_sum([3,3], 6))"
   ]
  },
  {
   "cell_type": "markdown",
   "id": "9ec37669",
   "metadata": {},
   "source": [
    "## Question 4\n",
    "How is a negative index used in Python? Show an example\n",
    "\n",
    "A negative index is used to access elements in an iterable starting from the end. An index of -1 will access the last element of the iterable, and index of -2 will access the second to last element, and so on."
   ]
  },
  {
   "cell_type": "code",
   "execution_count": 4,
   "id": "3c646d4e",
   "metadata": {},
   "outputs": [
    {
     "name": "stdout",
     "output_type": "stream",
     "text": [
      "[0, 1, 2, 3, 4, 5, 6, 7, 8, 9]\n",
      "8\n",
      "f\n"
     ]
    }
   ],
   "source": [
    "# your code here\n",
    "\n",
    "my_list = [x for x in range(10)]\n",
    "my_string = \"questionfour\"\n",
    "\n",
    "print(my_list)\n",
    "print(my_list[-2])\n",
    "print(my_string[-4])"
   ]
  },
  {
   "cell_type": "markdown",
   "id": "3128782b",
   "metadata": {},
   "source": [
    "## Question 5\n",
    "Check if two given strings are isomorphic to each other. Two strings str1 and str2 are called isomorphic if there is a one-to-one mapping possible for every character of str1 to every character of str2. And all occurrences of every character in ‘str1’ map to the same character in ‘str2’.\n",
    "\n",
    "`Input:  str1 = \"aab\", str2 = \"xxy\"`\n",
    "\n",
    "`Output: True`\n",
    "\n",
    "`'a' is mapped to 'x' and 'b' is mapped to 'y'.`\n",
    "\n",
    "`Input:  str1 = \"aab\", str2 = \"xyz\"`\n",
    "\n",
    "`Output: False`\n",
    "\n",
    "`One occurrence of 'a' in str1 has 'x' in str2 and other occurrence of 'a' has 'y'.`\n",
    "\n",
    "A Simple Solution is to consider every character of ‘str1’ and check if all occurrences of it map to the same character in ‘str2’. The time complexity of this solution is O(n*n).\n",
    "\n",
    "An Efficient Solution can solve this problem in O(n) time. The idea is to create an array to store mappings of processed characters. \n"
   ]
  },
  {
   "cell_type": "code",
   "execution_count": 1,
   "id": "53f3a149",
   "metadata": {},
   "outputs": [
    {
     "name": "stdout",
     "output_type": "stream",
     "text": [
      "True\n",
      "False\n",
      "False\n"
     ]
    }
   ],
   "source": [
    "# your code here\n",
    "def check_isomorphic(str1, str2):\n",
    "    mappings = []\n",
    "    \n",
    "    for i in range(len(str1)):\n",
    "        if str1[i] in mappings and str2[i] in mappings:\n",
    "            continue\n",
    "        elif str1[i] not in mappings and str2[i] not in mappings:\n",
    "            mappings.append(str1[i])\n",
    "            mappings.append(str2[i])\n",
    "        else:\n",
    "            return False\n",
    "    return True\n",
    "\n",
    "print(check_isomorphic(\"aab\", \"xxy\"))\n",
    "print(check_isomorphic(\"aab\", \"xyz\"))\n",
    "print(check_isomorphic(\"abc\", \"xxy\"))"
   ]
  },
  {
   "cell_type": "code",
   "execution_count": null,
   "id": "177e099c",
   "metadata": {},
   "outputs": [],
   "source": []
  }
 ],
 "metadata": {
  "kernelspec": {
   "display_name": "Python 3 (ipykernel)",
   "language": "python",
   "name": "python3"
  },
  "language_info": {
   "codemirror_mode": {
    "name": "ipython",
    "version": 3
   },
   "file_extension": ".py",
   "mimetype": "text/x-python",
   "name": "python",
   "nbconvert_exporter": "python",
   "pygments_lexer": "ipython3",
   "version": "3.9.17"
  }
 },
 "nbformat": 4,
 "nbformat_minor": 5
}
