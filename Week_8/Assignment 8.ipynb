{
 "cells": [
  {
   "cell_type": "markdown",
   "id": "5b5258fe",
   "metadata": {},
   "source": [
    "# Assignment 8\n",
    "### Joseph Annand\n",
    "### 8/25/2023"
   ]
  },
  {
   "cell_type": "markdown",
   "id": "b7111d7d",
   "metadata": {},
   "source": [
    "### The libraries you will use are already loaded for you below"
   ]
  },
  {
   "cell_type": "code",
   "execution_count": null,
   "id": "1e816004",
   "metadata": {},
   "outputs": [],
   "source": [
    "import pandas as pd\n",
    "import numpy as np\n",
    "import seaborn as sns\n",
    "import matplotlib.pyplot as plt\n",
    "from itertools import chain"
   ]
  },
  {
   "cell_type": "markdown",
   "id": "c0ebfbde",
   "metadata": {},
   "source": [
    "## Question 1\n",
    "Read in the two Netflix CSV files from /Data/Netflix as pandas dataframes. Print the number of unique genres. This is not as simple as it sounds. You cannot simply find the length of `titles['genres'].unique()`. You must convert the output of that code to a list, iterate over that list and replace the following characters: `[]',`. Once you have them replace you can split the individual strings to list items and flatten the list. I have already imported the `chain()` function for you to flatten the list. Look up the documentation to see its usage. There are 19 unique genres, but I want you to write the code to find them. "
   ]
  },
  {
   "cell_type": "code",
   "execution_count": null,
   "id": "75b35247",
   "metadata": {},
   "outputs": [],
   "source": [
    "# your code here\n",
    "titles_data = pd.read_csv(\"Data/Netflix/titles.csv\")\n",
    "credits_data = pd.read_csv(\"Data/Netflix/credits.csv\")\n",
    "\n",
    "genres = list(titles_data['genres'].unique())\n",
    "\n",
    "for i in range(len(genres)):\n",
    "    genres[i] = genres[i].replace(\"[\", \"\").replace(\"]\", \"\").replace(\",\", \"\").replace(\"'\", \"\")\n",
    "    genres[i] = genres[i].split()\n",
    "\n",
    "genres = list(chain.from_iterable(genres))\n",
    "genres = pd.Series(genres).unique()\n",
    "print(genres.size)"
   ]
  },
  {
   "cell_type": "markdown",
   "id": "c6916bad",
   "metadata": {},
   "source": [
    "## Question 2\n",
    "Print the release year and the imdb score of the highest average score of all movies by year. This is trickier than it sounds. To do this you will need to aggregate the means by year. If you use the simple method you will get a pandas series. The series will need to be converted to a dataframe and the index will need to be set as a column (release year). Once you have done that you can find the numerical index with the highest average imdb score. "
   ]
  },
  {
   "cell_type": "code",
   "execution_count": null,
   "id": "c0f1525d",
   "metadata": {},
   "outputs": [],
   "source": [
    "# your code here\n",
    "movies = titles_data[titles_data['type'] == \"MOVIE\"]\n",
    "\n",
    "movies_year = movies.groupby(by=\"release_year\")['imdb_score'].max()\n",
    "\n",
    "highest_rated = pd.DataFrame(movies_year)\n",
    "\n",
    "print(highest_rated.idxmax())"
   ]
  },
  {
   "cell_type": "markdown",
   "id": "d85c8321",
   "metadata": {},
   "source": [
    "## Question 3\n",
    "There were 208 actors in the movie with the most credited actors. What is the title of that movie? Nulls and NaN values do not count. "
   ]
  },
  {
   "cell_type": "code",
   "execution_count": null,
   "id": "46a63aa3",
   "metadata": {
    "scrolled": true
   },
   "outputs": [],
   "source": [
    "# your code here\n",
    "acting_credits = pd.DataFrame(credits_data.groupby(by='id')['name'].count())\n",
    "movie_id = acting_credits['name'].idxmax()\n",
    "print(pd.DataFrame(titles_data.loc[titles_data['id'] == movie_id, 'title']))"
   ]
  },
  {
   "cell_type": "markdown",
   "id": "9ec37669",
   "metadata": {},
   "source": [
    "## Question 4\n",
    "Which movie has the highest IMDB score for the actor Robert De Niro? What year was it made? Create a kdeplot (kernel density estimation to show the distribution of his IMDB movie scores. "
   ]
  },
  {
   "cell_type": "code",
   "execution_count": null,
   "id": "3c646d4e",
   "metadata": {},
   "outputs": [],
   "source": [
    "# your code here\n",
    "de_niro_credits = pd.DataFrame(credits_data.loc[credits_data['name'] == \"Robert De Niro\", 'id'])\n",
    "\n",
    "de_niro_id = list(de_niro_credits['id'])\n",
    "\n",
    "de_niro_movies = pd.DataFrame(titles_data.loc[titles_data['id'].isin(de_niro_id), :])\n",
    "\n",
    "print(de_niro_movies.at[de_niro_movies['imdb_score'].idxmax(), 'title'])\n",
    "print(de_niro_movies.at[de_niro_movies['imdb_score'].idxmax(), 'release_year'])\n",
    "\n",
    "sns.kdeplot(data=de_niro_movies, x=\"imdb_score\")"
   ]
  },
  {
   "cell_type": "markdown",
   "id": "3128782b",
   "metadata": {},
   "source": [
    "## Question 5\n",
    "Create two new boolean columns in the titles dataframe that are true when the description contains war or gangster. Call these columns `war_movies` and `gangster_movies`. How many movies are there in both categories? Which category has a higher average IMDB score? Show the IMDB score kernel density estimations of both categories.\n"
   ]
  },
  {
   "cell_type": "code",
   "execution_count": null,
   "id": "53f3a149",
   "metadata": {},
   "outputs": [],
   "source": [
    "# your code here\n",
    "titles_data['war_movies'] = np.where(titles_data['description'].str.contains(\"war\"), True, False)\n",
    "titles_data['gangster_movies'] = np.where(titles_data['description'].str.contains(\"gangster\"), True, False)\n",
    "\n",
    "print(len(titles_data[titles_data['war_movies'] == True]))\n",
    "print(len(titles_data[titles_data['ganster_movies'] == True]))\n",
    "\n",
    "war_movie_data = titles_data.loc[titles_data['war_movies'] == True, :]\n",
    "gang_movie_data = titles_data.loc[titles_data['gangster_movies'] == True, :]\n",
    "\n",
    "war_score = np.mean(war_movie_data['imdb_score'])\n",
    "gangster_score = np.mean(gang_movie_data['imdb_score'])\n",
    "if  (war_score > gangster_score):\n",
    "    print(f\"Average war movie IMdB score of {war_score} is higher than average gangster movie score of {gangster_score}\")\n",
    "else:\n",
    "    print(f\"Average ganster movie IMdB score of {gangster_score} is higher than average war movie score of {war_score}\")\n",
    "\n",
    "sns.kdeplot(data=war_movie_data, x='imdb_score')\n",
    "sns.kdeplot(data=gangster_score, x='imdb_score')"
   ]
  }
 ],
 "metadata": {
  "kernelspec": {
   "display_name": "Python 3 (ipykernel)",
   "language": "python",
   "name": "python3"
  },
  "language_info": {
   "codemirror_mode": {
    "name": "ipython",
    "version": 3
   },
   "file_extension": ".py",
   "mimetype": "text/x-python",
   "name": "python",
   "nbconvert_exporter": "python",
   "pygments_lexer": "ipython3",
   "version": "3.9.17"
  }
 },
 "nbformat": 4,
 "nbformat_minor": 5
}
